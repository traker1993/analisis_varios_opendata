{
 "cells": [
  {
   "cell_type": "markdown",
   "metadata": {},
   "source": [
    "# ESTUDIO DE DATOS ABIERTOS "
   ]
  },
  {
   "cell_type": "markdown",
   "metadata": {},
   "source": [
    "Bolsas excrementos perros\n",
    "\n",
    "http://datos.gob.es/es/catalogo/l01280796-mobiliario-urbano-papeleras-con-dispensador-de-bolsas-de-excrementos-para-perros\n",
    "\n",
    "Radares Madrid (necesario preprocesamiento)\n",
    "\n",
    "http://datos.gob.es/es/catalogo/l01280796-radares1\n",
    "\n",
    "https://www.motorpasion.com/industria/todos-los-radares-de-madrid\n",
    "\n",
    "http://aeaclub.org/radares-velocidad-madrid/\n",
    "\n",
    "http://aeaclub.org/radares-madrid/\n",
    "\n",
    "https://www.multascea.es/recurrir/64-sabes-que-radares-se-han-activado-en-madrid\n",
    "\n",
    "Incidencias M30\n",
    "\n",
    "http://datos.gob.es/es/catalogo/l01280796-trafico-calle-30-incidencias1\n",
    "\n",
    "\n",
    "Accidentes barcelona\n",
    "\n",
    "http://datos.gob.es/es/catalogo/l01080193-personas-involucradas-en-accidentes-gestionados-por-la-guardia-urbana-en-la-ciudad-de-barcelona\n",
    "\n",
    "http://datos.gob.es/es/catalogo/l01080193-accidentes-gestionados-por-la-guardia-urbana-en-la-ciudad-de-barcelona"
   ]
  },
  {
   "cell_type": "markdown",
   "metadata": {},
   "source": [
    "# Importo librerías "
   ]
  },
  {
   "cell_type": "code",
   "execution_count": 1,
   "metadata": {
    "ExecuteTime": {
     "end_time": "2019-02-15T16:39:35.156931Z",
     "start_time": "2019-02-15T16:39:33.730229Z"
    }
   },
   "outputs": [
    {
     "data": {
      "text/html": [
       "<script type=\"text/javascript\">window.PlotlyConfig = {MathJaxConfig: 'local'};</script><script type=\"text/javascript\">if (window.MathJax) {MathJax.Hub.Config({SVG: {font: \"STIX-Web\"}});}</script><script>requirejs.config({paths: { 'plotly': ['https://cdn.plot.ly/plotly-latest.min']},});if(!window._Plotly) {require(['plotly'],function(plotly) {window._Plotly=plotly;});}</script>"
      ],
      "text/vnd.plotly.v1+html": [
       "<script type=\"text/javascript\">window.PlotlyConfig = {MathJaxConfig: 'local'};</script><script type=\"text/javascript\">if (window.MathJax) {MathJax.Hub.Config({SVG: {font: \"STIX-Web\"}});}</script><script>requirejs.config({paths: { 'plotly': ['https://cdn.plot.ly/plotly-latest.min']},});if(!window._Plotly) {require(['plotly'],function(plotly) {window._Plotly=plotly;});}</script>"
      ]
     },
     "metadata": {},
     "output_type": "display_data"
    }
   ],
   "source": [
    "import pandas as pd\n",
    "pd.set_option('display.max_rows', 500)\n",
    "pd.set_option('display.max_columns', 500)\n",
    "import numpy as np\n",
    "from sklearn import datasets, linear_model\n",
    "import sklearn\n",
    "from sklearn.ensemble import IsolationForest\n",
    "import geopy\n",
    "from geopy.distance import great_circle\n",
    "import matplotlib.pyplot as plt\n",
    "import logging\n",
    "from sklearn.model_selection import train_test_split\n",
    "import time\n",
    "from datetime import timedelta\n",
    "import seaborn as sns\n",
    "import plotly as py\n",
    "import plotly.graph_objs as go\n",
    "from plotly import tools\n",
    "py.offline.init_notebook_mode(connected=True)\n",
    "%matplotlib inline\n",
    "import os\n",
    "import sys\n",
    "module_path = os.path.abspath(os.path.join('..'))\n",
    "if module_path not in sys.path:\n",
    "    sys.path.append(module_path)\n",
    "from h3 import h3\n",
    "import folium\n",
    "from folium.plugins import MarkerCluster\n",
    "from IPython import display"
   ]
  },
  {
   "cell_type": "markdown",
   "metadata": {},
   "source": [
    "# Mapa de papeleras de Madrid con expendedor de bolsas: "
   ]
  },
  {
   "cell_type": "code",
   "execution_count": 2,
   "metadata": {
    "ExecuteTime": {
     "end_time": "2019-02-15T16:38:33.673303Z",
     "start_time": "2019-02-15T16:38:33.615657Z"
    }
   },
   "outputs": [],
   "source": [
    "papeleras_madrid = pd.read_csv(\n",
    "    'papeleras_con_expendedor_de_bolsas.csv', encoding='latin-1', sep=';')"
   ]
  },
  {
   "cell_type": "code",
   "execution_count": 3,
   "metadata": {
    "ExecuteTime": {
     "end_time": "2019-02-15T16:38:34.801339Z",
     "start_time": "2019-02-15T16:38:34.774220Z"
    }
   },
   "outputs": [
    {
     "data": {
      "text/html": [
       "<div>\n",
       "<style scoped>\n",
       "    .dataframe tbody tr th:only-of-type {\n",
       "        vertical-align: middle;\n",
       "    }\n",
       "\n",
       "    .dataframe tbody tr th {\n",
       "        vertical-align: top;\n",
       "    }\n",
       "\n",
       "    .dataframe thead th {\n",
       "        text-align: right;\n",
       "    }\n",
       "</style>\n",
       "<table border=\"1\" class=\"dataframe\">\n",
       "  <thead>\n",
       "    <tr style=\"text-align: right;\">\n",
       "      <th></th>\n",
       "      <th>COD_TIPO_DATO</th>\n",
       "      <th>TIPO_DATO</th>\n",
       "      <th>IDENTIFICADOR_MINT</th>\n",
       "      <th>COD_AREA</th>\n",
       "      <th>COD_NDP</th>\n",
       "      <th>DIRECCION_COMPLETA</th>\n",
       "      <th>DIRECCION AUXILIAR</th>\n",
       "      <th>COD_VIAL</th>\n",
       "      <th>CLASE_VIAL</th>\n",
       "      <th>PARTICULAR_VIAL</th>\n",
       "      <th>NOMBRE_VIAL</th>\n",
       "      <th>TIPO_NÚMERO</th>\n",
       "      <th>NÚMERO</th>\n",
       "      <th>COD_BARRIO</th>\n",
       "      <th>BARRIO</th>\n",
       "      <th>COD_DISTRITO</th>\n",
       "      <th>DISTRITO</th>\n",
       "      <th>UTMX</th>\n",
       "      <th>UTMY</th>\n",
       "      <th>LONGITUD</th>\n",
       "      <th>LATITUD</th>\n",
       "      <th>FECHA_INSTALACION_O_SUSTITUCION</th>\n",
       "      <th>MODELO</th>\n",
       "      <th>Unnamed: 23</th>\n",
       "    </tr>\n",
       "  </thead>\n",
       "  <tbody>\n",
       "    <tr>\n",
       "      <th>0</th>\n",
       "      <td>5001</td>\n",
       "      <td>PAPELERA_EXP</td>\n",
       "      <td>504757</td>\n",
       "      <td>NaN</td>\n",
       "      <td>20004152</td>\n",
       "      <td>AVENIDA DE LA GRAN VIA DE SAN FRANCISCO N.19</td>\n",
       "      <td>AVENIDA DE LA GRAN VIA DE SAN FRANCISCO,19</td>\n",
       "      <td>669050</td>\n",
       "      <td>AVENIDA</td>\n",
       "      <td>DE LA</td>\n",
       "      <td>GRAN VIA DE SAN FRANCISCO</td>\n",
       "      <td>N</td>\n",
       "      <td>19</td>\n",
       "      <td>11</td>\n",
       "      <td>PALACIO</td>\n",
       "      <td>1</td>\n",
       "      <td>CENTRO</td>\n",
       "      <td>439424,8287</td>\n",
       "      <td>4473496,159</td>\n",
       "      <td>-3.71393</td>\n",
       "      <td>40.40988</td>\n",
       "      <td>16/07/2010</td>\n",
       "      <td>50_LTS_EX</td>\n",
       "      <td>NaN</td>\n",
       "    </tr>\n",
       "    <tr>\n",
       "      <th>1</th>\n",
       "      <td>5001</td>\n",
       "      <td>PAPELERA_EXP</td>\n",
       "      <td>516240</td>\n",
       "      <td>NaN</td>\n",
       "      <td>20147367</td>\n",
       "      <td>AVENIDA DE LA GRAN VIA DE SAN FRANCISCO N.6</td>\n",
       "      <td>AVENIDA DE LA GRAN VIA DE SAN FRANCISCO,6</td>\n",
       "      <td>669050</td>\n",
       "      <td>AVENIDA</td>\n",
       "      <td>DE LA</td>\n",
       "      <td>GRAN VIA DE SAN FRANCISCO</td>\n",
       "      <td>N</td>\n",
       "      <td>6</td>\n",
       "      <td>11</td>\n",
       "      <td>PALACIO</td>\n",
       "      <td>1</td>\n",
       "      <td>CENTRO</td>\n",
       "      <td>439530,2964</td>\n",
       "      <td>4473316,587</td>\n",
       "      <td>-3.71267</td>\n",
       "      <td>40.40827</td>\n",
       "      <td>21/02/2011</td>\n",
       "      <td>50_LTS_EX</td>\n",
       "      <td>NaN</td>\n",
       "    </tr>\n",
       "  </tbody>\n",
       "</table>\n",
       "</div>"
      ],
      "text/plain": [
       "   COD_TIPO_DATO     TIPO_DATO  IDENTIFICADOR_MINT  COD_AREA   COD_NDP  \\\n",
       "0           5001  PAPELERA_EXP              504757       NaN  20004152   \n",
       "1           5001  PAPELERA_EXP              516240       NaN  20147367   \n",
       "\n",
       "                             DIRECCION_COMPLETA  \\\n",
       "0  AVENIDA DE LA GRAN VIA DE SAN FRANCISCO N.19   \n",
       "1   AVENIDA DE LA GRAN VIA DE SAN FRANCISCO N.6   \n",
       "\n",
       "                           DIRECCION AUXILIAR  COD_VIAL CLASE_VIAL  \\\n",
       "0  AVENIDA DE LA GRAN VIA DE SAN FRANCISCO,19    669050    AVENIDA   \n",
       "1   AVENIDA DE LA GRAN VIA DE SAN FRANCISCO,6    669050    AVENIDA   \n",
       "\n",
       "  PARTICULAR_VIAL                NOMBRE_VIAL TIPO_NÚMERO  NÚMERO  COD_BARRIO  \\\n",
       "0           DE LA  GRAN VIA DE SAN FRANCISCO           N      19          11   \n",
       "1           DE LA  GRAN VIA DE SAN FRANCISCO           N       6          11   \n",
       "\n",
       "    BARRIO  COD_DISTRITO DISTRITO         UTMX         UTMY  LONGITUD  \\\n",
       "0  PALACIO             1   CENTRO  439424,8287  4473496,159  -3.71393   \n",
       "1  PALACIO             1   CENTRO  439530,2964  4473316,587  -3.71267   \n",
       "\n",
       "    LATITUD FECHA_INSTALACION_O_SUSTITUCION     MODELO  Unnamed: 23  \n",
       "0  40.40988                      16/07/2010  50_LTS_EX          NaN  \n",
       "1  40.40827                      21/02/2011  50_LTS_EX          NaN  "
      ]
     },
     "execution_count": 3,
     "metadata": {},
     "output_type": "execute_result"
    }
   ],
   "source": [
    "papeleras_madrid[:2]"
   ]
  },
  {
   "cell_type": "code",
   "execution_count": 4,
   "metadata": {
    "ExecuteTime": {
     "end_time": "2019-02-15T16:38:37.809360Z",
     "start_time": "2019-02-15T16:38:37.793070Z"
    },
    "code_folding": []
   },
   "outputs": [],
   "source": [
    "lat = papeleras_madrid['LATITUD']\n",
    "lng = papeleras_madrid['LONGITUD']\n",
    "m = folium.Map(\n",
    "    location=[sum(lat) / len(lat), sum(lng) / len(lng)],\n",
    "    zoom_start=13,\n",
    "    tiles='stamentoner')"
   ]
  },
  {
   "cell_type": "code",
   "execution_count": 5,
   "metadata": {
    "ExecuteTime": {
     "end_time": "2019-02-15T16:38:38.727943Z",
     "start_time": "2019-02-15T16:38:38.717299Z"
    }
   },
   "outputs": [
    {
     "data": {
      "text/plain": [
       "(6042, 24)"
      ]
     },
     "execution_count": 5,
     "metadata": {},
     "output_type": "execute_result"
    }
   ],
   "source": [
    "papeleras_madrid.shape"
   ]
  },
  {
   "cell_type": "code",
   "execution_count": 6,
   "metadata": {
    "ExecuteTime": {
     "end_time": "2019-02-15T16:38:40.518798Z",
     "start_time": "2019-02-15T16:38:39.707736Z"
    }
   },
   "outputs": [],
   "source": [
    "marker_cluster = MarkerCluster().add_to(m)\n",
    "for index, row in papeleras_madrid.iterrows():\n",
    "    mk = folium.Marker(\n",
    "        location=[row['LATITUD'], row['LONGITUD']],\n",
    "        icon=folium.Icon(color='lightgreen', icon='remove-sign'),\n",
    "    ).add_to(marker_cluster)\n",
    "#    m.add_child(mk)"
   ]
  },
  {
   "cell_type": "code",
   "execution_count": 7,
   "metadata": {
    "ExecuteTime": {
     "end_time": "2019-02-15T16:38:47.120097Z",
     "start_time": "2019-02-15T16:38:40.869372Z"
    }
   },
   "outputs": [],
   "source": [
    "m.save(outfile='mapa_papeleras.html')"
   ]
  },
  {
   "cell_type": "markdown",
   "metadata": {},
   "source": [
    "# Datos de accidentes en Barcelona:"
   ]
  },
  {
   "cell_type": "code",
   "execution_count": 62,
   "metadata": {
    "collapsed": true
   },
   "outputs": [],
   "source": [
    "accidentes_barna = pd.read_csv('2017_accidents_gu_bcn.csv', sep=',')"
   ]
  },
  {
   "cell_type": "code",
   "execution_count": 63,
   "metadata": {},
   "outputs": [
    {
     "data": {
      "text/html": [
       "<div>\n",
       "<style scoped>\n",
       "    .dataframe tbody tr th:only-of-type {\n",
       "        vertical-align: middle;\n",
       "    }\n",
       "\n",
       "    .dataframe tbody tr th {\n",
       "        vertical-align: top;\n",
       "    }\n",
       "\n",
       "    .dataframe thead th {\n",
       "        text-align: right;\n",
       "    }\n",
       "</style>\n",
       "<table border=\"1\" class=\"dataframe\">\n",
       "  <thead>\n",
       "    <tr style=\"text-align: right;\">\n",
       "      <th></th>\n",
       "      <th>Número d'expedient</th>\n",
       "      <th>Codi districte</th>\n",
       "      <th>Nom districte</th>\n",
       "      <th>Codi barri</th>\n",
       "      <th>Nom barri</th>\n",
       "      <th>Codi carrer</th>\n",
       "      <th>Nom carrer</th>\n",
       "      <th>Num postal caption</th>\n",
       "      <th>Descripció dia setmana</th>\n",
       "      <th>Dia setmana</th>\n",
       "      <th>Descripció tipus dia</th>\n",
       "      <th>NK Any</th>\n",
       "      <th>Mes de any</th>\n",
       "      <th>Nom mes</th>\n",
       "      <th>Dia de mes</th>\n",
       "      <th>Hora de dia</th>\n",
       "      <th>Descripció torn</th>\n",
       "      <th>Descripció causa vianant</th>\n",
       "      <th>Número de morts</th>\n",
       "      <th>Número de lesionats lleus</th>\n",
       "      <th>Número de lesionats greus</th>\n",
       "      <th>Número de víctimes</th>\n",
       "      <th>Número de vehicles implicats</th>\n",
       "      <th>Coordenada UTM (X)</th>\n",
       "      <th>Coordenada UTM (Y)</th>\n",
       "      <th>Longitud</th>\n",
       "      <th>Latitud</th>\n",
       "    </tr>\n",
       "  </thead>\n",
       "  <tbody>\n",
       "    <tr>\n",
       "      <th>0</th>\n",
       "      <td>2017S008429</td>\n",
       "      <td>-1</td>\n",
       "      <td>Desconegut</td>\n",
       "      <td>-1</td>\n",
       "      <td>Desconegut</td>\n",
       "      <td>-1</td>\n",
       "      <td>Número 27                                     ...</td>\n",
       "      <td>Desconegut</td>\n",
       "      <td>Divendres</td>\n",
       "      <td>Dv</td>\n",
       "      <td>Laboral</td>\n",
       "      <td>2017</td>\n",
       "      <td>10</td>\n",
       "      <td>Octubre</td>\n",
       "      <td>13</td>\n",
       "      <td>8</td>\n",
       "      <td>Matí</td>\n",
       "      <td>Altres</td>\n",
       "      <td>0</td>\n",
       "      <td>2</td>\n",
       "      <td>0</td>\n",
       "      <td>2</td>\n",
       "      <td>2</td>\n",
       "      <td>426936.65</td>\n",
       "      <td>4577079.15</td>\n",
       "      <td>2.125624</td>\n",
       "      <td>41.340045</td>\n",
       "    </tr>\n",
       "  </tbody>\n",
       "</table>\n",
       "</div>"
      ],
      "text/plain": [
       "  Número d'expedient  Codi districte Nom districte  Codi barri   Nom barri  \\\n",
       "0    2017S008429                  -1    Desconegut          -1  Desconegut   \n",
       "\n",
       "   Codi carrer                                         Nom carrer  \\\n",
       "0           -1  Número 27                                     ...   \n",
       "\n",
       "  Num postal caption Descripció dia setmana Dia setmana Descripció tipus dia  \\\n",
       "0         Desconegut              Divendres          Dv              Laboral   \n",
       "\n",
       "   NK Any  Mes de any  Nom mes  Dia de mes  Hora de dia Descripció torn  \\\n",
       "0    2017          10  Octubre          13            8            Matí   \n",
       "\n",
       "  Descripció causa vianant  Número de morts  Número de lesionats lleus  \\\n",
       "0                   Altres                0                          2   \n",
       "\n",
       "   Número de lesionats greus  Número de víctimes  \\\n",
       "0                          0                   2   \n",
       "\n",
       "   Número de vehicles implicats Coordenada UTM (X) Coordenada UTM (Y)  \\\n",
       "0                             2         426936.65          4577079.15   \n",
       "\n",
       "   Longitud    Latitud  \n",
       "0  2.125624  41.340045  "
      ]
     },
     "execution_count": 63,
     "metadata": {},
     "output_type": "execute_result"
    }
   ],
   "source": [
    "accidentes_barna[:1]"
   ]
  },
  {
   "cell_type": "code",
   "execution_count": 64,
   "metadata": {
    "collapsed": true
   },
   "outputs": [],
   "source": [
    "lat = accidentes_barna['Latitud']\n",
    "lng = accidentes_barna['Longitud']\n",
    "m = folium.Map(\n",
    "    location=[sum(lat) / len(lat), sum(lng) / len(lng)],\n",
    "    zoom_start=13,\n",
    "    tiles='stamentoner')"
   ]
  },
  {
   "cell_type": "code",
   "execution_count": 65,
   "metadata": {},
   "outputs": [
    {
     "data": {
      "text/plain": [
       "(10339, 27)"
      ]
     },
     "execution_count": 65,
     "metadata": {},
     "output_type": "execute_result"
    }
   ],
   "source": [
    "accidentes_barna.shape"
   ]
  },
  {
   "cell_type": "code",
   "execution_count": 66,
   "metadata": {
    "code_folding": [],
    "collapsed": true
   },
   "outputs": [],
   "source": [
    "marker_cluster = MarkerCluster().add_to(m)\n",
    "for index, row in accidentes_barna.iterrows():\n",
    "    if row[\"Número de morts\"]>0:\n",
    "        mk = folium.Marker(\n",
    "            location=[row['Latitud'], row['Longitud']],\n",
    "                popup=u'Número de expediente: '+str(row[\"Número d'expedient\"])\n",
    "                        +'<br>Lesionados leves: '+str(row[\"Número de lesionats lleus\"])\n",
    "                        +'<br>Lesionados graves: '+str(row[\"Número de lesionats greus\"])\n",
    "                        +'<br>Muertes: '+str(row[\"Número de morts\"])\n",
    "                        +'<br>Vehículos implicados: '+str(row[\"Número de vehicles implicats\"])\n",
    "                        +'<br>Día de la semana: '+str(row[\"Descripció dia setmana\"])\n",
    "                        +'<br>Tipo de día: '+str(row[\"Descripció tipus dia\"]),\n",
    "            icon=folium.Icon(color='red', icon='remove-sign'),\n",
    "        )#.add_to(marker_cluster)\n",
    "        m.add_child(mk)\n",
    "    elif row[\"Número de lesionats greus\"]>0:\n",
    "        mk = folium.Marker(\n",
    "            location=[row['Latitud'], row['Longitud']],\n",
    "                popup=u'Número de expediente: '+str(row[\"Número d'expedient\"])\n",
    "                        +'<br>Lesionados leves: '+str(row[\"Número de lesionats lleus\"])\n",
    "                        +'<br>Lesionados graves: '+str(row[\"Número de lesionats greus\"])\n",
    "                        +'<br>Muertes: '+str(row[\"Número de morts\"])\n",
    "                        +'<br>Vehículos implicados: '+str(row[\"Número de vehicles implicats\"])\n",
    "                        +'<br>Día de la semana: '+str(row[\"Descripció dia setmana\"])\n",
    "                        +'<br>Tipo de día: '+str(row[\"Descripció tipus dia\"]),\n",
    "            icon=folium.Icon(color='orange', icon='remove-sign'),\n",
    "        ).add_to(marker_cluster)\n",
    "        #m.add_child(mk)\n",
    "    else:\n",
    "        mk = folium.Marker(\n",
    "            location=[row['Latitud'], row['Longitud']],\n",
    "                popup=u'Número de expediente: '+str(row[\"Número d'expedient\"])\n",
    "                        +'<br>Lesionados leves: '+str(row[\"Número de lesionats lleus\"])\n",
    "                        +'<br>Lesionados graves: '+str(row[\"Número de lesionats greus\"])\n",
    "                        +'<br>Muertes: '+str(row[\"Número de morts\"])\n",
    "                        +'<br>Vehículos implicados: '+str(row[\"Número de vehicles implicats\"])\n",
    "                        +'<br>Día de la semana: '+str(row[\"Descripció dia setmana\"])\n",
    "                        +'<br>Tipo de día: '+str(row[\"Descripció tipus dia\"]),\n",
    "            icon=folium.Icon(color='lightgreen', icon='remove-sign'),\n",
    "        ).add_to(marker_cluster)"
   ]
  },
  {
   "cell_type": "code",
   "execution_count": 67,
   "metadata": {
    "collapsed": true
   },
   "outputs": [],
   "source": [
    "m.save(outfile='accidentes_barna.html')"
   ]
  }
 ],
 "metadata": {
  "kernelspec": {
   "display_name": "Python 3",
   "language": "python",
   "name": "python3"
  },
  "language_info": {
   "codemirror_mode": {
    "name": "ipython",
    "version": 3
   },
   "file_extension": ".py",
   "mimetype": "text/x-python",
   "name": "python",
   "nbconvert_exporter": "python",
   "pygments_lexer": "ipython3",
   "version": "3.6.6"
  },
  "toc": {
   "base_numbering": 1,
   "nav_menu": {
    "height": "90.9976px",
    "width": "395.998px"
   },
   "number_sections": true,
   "sideBar": true,
   "skip_h1_title": false,
   "title_cell": "Table of Contents",
   "title_sidebar": "Contents",
   "toc_cell": false,
   "toc_position": {
    "height": "calc(100% - 180px)",
    "left": "10px",
    "top": "150px",
    "width": "164.988px"
   },
   "toc_section_display": true,
   "toc_window_display": true
  },
  "varInspector": {
   "cols": {
    "lenName": 16,
    "lenType": 16,
    "lenVar": 40
   },
   "kernels_config": {
    "python": {
     "delete_cmd_postfix": "",
     "delete_cmd_prefix": "del ",
     "library": "var_list.py",
     "varRefreshCmd": "print(var_dic_list())"
    },
    "r": {
     "delete_cmd_postfix": ") ",
     "delete_cmd_prefix": "rm(",
     "library": "var_list.r",
     "varRefreshCmd": "cat(var_dic_list()) "
    }
   },
   "oldHeight": 354.699538,
   "position": {
    "height": "40px",
    "left": "883.433px",
    "right": "20px",
    "top": "69.9351px",
    "width": "510.709px"
   },
   "types_to_exclude": [
    "module",
    "function",
    "builtin_function_or_method",
    "instance",
    "_Feature"
   ],
   "varInspector_section_display": "none",
   "window_display": true
  }
 },
 "nbformat": 4,
 "nbformat_minor": 2
}
